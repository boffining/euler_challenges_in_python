{
 "cells": [
  {
   "cell_type": "markdown",
   "metadata": {},
   "source": [
    "### Sum square difference\n",
    "   \n",
    "###### Problem 6\n",
    "The sum of the squares of the first ten natural numbers is,\n",
    "\n",
    "$\n",
    "\\begin{align}\n",
    "1^2+2^2+\\dots+10^2 = 385\n",
    "\\end{align}\n",
    "$\n",
    "\n",
    "The square of the sum of the first ten natural numbers is,\n",
    "\n",
    "$\n",
    "\\begin{align}\n",
    "\\left(1+2+\\dots+10\\right)^2 = 55^2 = 3025\n",
    "\\end{align}\n",
    "$\n",
    "\n",
    "Hence the difference between the sum of the squares of the first ten natural numbers and the square of the sum is $3025-385 = 2640$.\n",
    "\n",
    "Find the difference between the sum of the squares of the first one hundred natural numbers and the square of the sum."
   ]
  },
  {
   "cell_type": "code",
   "execution_count": null,
   "metadata": {},
   "outputs": [],
   "source": []
  }
 ],
 "metadata": {
  "kernelspec": {
   "display_name": "Python 3",
   "language": "python",
   "name": "python3"
  },
  "language_info": {
   "codemirror_mode": {
    "name": "ipython",
    "version": 3
   },
   "file_extension": ".py",
   "mimetype": "text/x-python",
   "name": "python",
   "nbconvert_exporter": "python",
   "pygments_lexer": "ipython3",
   "version": "3.7.6"
  }
 },
 "nbformat": 4,
 "nbformat_minor": 4
}
