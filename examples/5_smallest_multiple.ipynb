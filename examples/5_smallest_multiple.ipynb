{
 "cells": [
  {
   "cell_type": "markdown",
   "metadata": {},
   "source": [
    "### Smallest multiple\n",
    "   \n",
    "###### Problem 5\n",
    "2520 is the smallest number that can be divided by each of the numbers from 1 to 10 without any remainder.\n",
    "\n",
    "What is the smallest positive number that is evenly divisible by all of the numbers from 1 to 20?"
   ]
  },
  {
   "cell_type": "code",
   "execution_count": 1,
   "metadata": {},
   "outputs": [],
   "source": [
    "def search_for_smallest_divisible_positive_number(max_divisible:int, search_list:list):\n",
    "    # reference: https://en.wikipedia.org/wiki/Divisibility_rule#Divisibility_rules_for_numbers_1%E2%80%9330\n",
    "    number = max_divisible\n",
    "    while _check_divisibility(number, search_list) == False:\n",
    "        number += max_divisible\n",
    "    print(f\"{number} IS DIVISIBLE BY {','.join([str(i) for i in search_list])}\")\n",
    "\n",
    "def _check_divisibility(number:int, divisible:list) -> bool:\n",
    "    for divided_by in divisible:\n",
    "        if number%divided_by == 0:\n",
    "            continue\n",
    "        else:\n",
    "            return False\n",
    "            break\n",
    "    return True    "
   ]
  },
  {
   "cell_type": "code",
   "execution_count": 2,
   "metadata": {},
   "outputs": [
    {
     "name": "stdout",
     "output_type": "stream",
     "text": [
      "2520 IS DIVISIBLE BY 2,3,4,7,8,9\n"
     ]
    }
   ],
   "source": [
    "# check prompt question matches\n",
    "search_for_smallest_divisible_positive_number(10, [2,3,4,7,8,9])"
   ]
  },
  {
   "cell_type": "code",
   "execution_count": 3,
   "metadata": {},
   "outputs": [
    {
     "name": "stdout",
     "output_type": "stream",
     "text": [
      "232792560 IS DIVISIBLE BY 2,3,4,7,8,9,11,13,16,17,19\n"
     ]
    }
   ],
   "source": [
    "# get answer\n",
    "search_for_smallest_divisible_positive_number(20, [2,3,4,7,8,9,11,13,16,17,19])"
   ]
  }
 ],
 "metadata": {
  "kernelspec": {
   "display_name": "Python 3",
   "language": "python",
   "name": "python3"
  },
  "language_info": {
   "codemirror_mode": {
    "name": "ipython",
    "version": 3
   },
   "file_extension": ".py",
   "mimetype": "text/x-python",
   "name": "python",
   "nbconvert_exporter": "python",
   "pygments_lexer": "ipython3",
   "version": "3.7.6"
  }
 },
 "nbformat": 4,
 "nbformat_minor": 4
}
