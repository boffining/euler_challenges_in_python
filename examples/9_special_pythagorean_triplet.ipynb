{
 "cells": [
  {
   "cell_type": "markdown",
   "metadata": {},
   "source": [
    "### Special Pythagorean triplet\n",
    "   \n",
    "###### Problem 9\n",
    "A Pythagorean triplet is a set of three natural numbers, a < b < c, for which,\n",
    "\n",
    "a2 + b2 = c2\n",
    "For example, 32 + 42 = 9 + 16 = 25 = 52.\n",
    "\n",
    "There exists exactly one Pythagorean triplet for which a + b + c = 1000.\n",
    "Find the product abc."
   ]
  },
  {
   "cell_type": "code",
   "execution_count": 1,
   "metadata": {},
   "outputs": [],
   "source": [
    "import itertools\n",
    "\n",
    "# reference: https://en.wikipedia.org/wiki/Pythagorean_triple\n",
    "# reference: https://www.geeksforgeeks.org/check-two-numbers-co-prime-not/\n",
    "# find (m,n) pairs where both are odd and coprime\n",
    "\n",
    "def _keep_pair(a:int,b:int) -> tuple:\n",
    "    if a%2 == 0:\n",
    "        if b%2!=0:\n",
    "            return (a,b)\n",
    "    elif b%2==0:\n",
    "        return (a,b)\n",
    "    \n",
    "def find_pythagorean_triple(target:int):\n",
    "    single_odd_pairs = [sorted((a,b), reverse=True) for a,b in list(itertools.combinations(range(1, 500), 2)) if (_keep_pair(a,b))]\n",
    "    for m,n in single_odd_pairs:\n",
    "        a = m**2 - n**2\n",
    "        b = 2*m*n\n",
    "        c = m**2 + n**2\n",
    "        if a+b+c == target:\n",
    "            print(f\"a={a}, b={b}, c={c}\")\n",
    "            print(f\"Product:{a*b*c}\")"
   ]
  },
  {
   "cell_type": "code",
   "execution_count": 2,
   "metadata": {},
   "outputs": [
    {
     "name": "stdout",
     "output_type": "stream",
     "text": [
      "a=3, b=4, c=5\n",
      "Product:60\n"
     ]
    }
   ],
   "source": [
    "find_pythagorean_triple(12)"
   ]
  },
  {
   "cell_type": "code",
   "execution_count": 3,
   "metadata": {},
   "outputs": [
    {
     "name": "stdout",
     "output_type": "stream",
     "text": [
      "a=375, b=200, c=425\n",
      "Product:31875000\n"
     ]
    }
   ],
   "source": [
    "find_pythagorean_triple(1000)"
   ]
  }
 ],
 "metadata": {
  "kernelspec": {
   "display_name": "Python 3",
   "language": "python",
   "name": "python3"
  },
  "language_info": {
   "codemirror_mode": {
    "name": "ipython",
    "version": 3
   },
   "file_extension": ".py",
   "mimetype": "text/x-python",
   "name": "python",
   "nbconvert_exporter": "python",
   "pygments_lexer": "ipython3",
   "version": "3.7.6"
  }
 },
 "nbformat": 4,
 "nbformat_minor": 4
}
