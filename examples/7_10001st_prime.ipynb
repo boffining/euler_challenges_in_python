{
 "cells": [
  {
   "cell_type": "markdown",
   "metadata": {},
   "source": [
    "### 10001st prime\n",
    "   \n",
    "###### Problem 7\n",
    "By listing the first six prime numbers: 2, 3, 5, 7, 11, and 13, we can see that the 6th prime is 13.\n",
    "\n",
    "What is the 10 001st prime number?"
   ]
  },
  {
   "cell_type": "code",
   "execution_count": 1,
   "metadata": {},
   "outputs": [],
   "source": [
    "# reference: https://www.geeksforgeeks.org/analysis-different-methods-find-prime-number-python/\n",
    "# I don't believe I can use the sieve of eratosthenes algorithm since the value for n is not known in this prompt.\n",
    "# however I can reduce the search space by removing basic numbers (divisible by 2, 3, or 5).\n",
    "\n",
    "\n",
    "def _is_prime(n) :\n",
    "    # optimized script to take advantage of the +6 rule of primes\n",
    "    # source: https://www.geeksforgeeks.org/python-program-to-check-whether-a-number-is-prime-or-not/\n",
    "    if (n%2 == 0 or n%3 == 0) : \n",
    "        return False\n",
    "    i = 5\n",
    "    while(i * i <= n) : \n",
    "        if (n%i == 0 or n%(i + 2) == 0) : \n",
    "            return False\n",
    "        i = i + 6\n",
    "    return True\n",
    "\n",
    "def _prime_search(n):\n",
    "    # generate a list not including divisible by 2,3,5.\n",
    "    hold = []\n",
    "    i = 2\n",
    "    while len(hold) < n+n*2:\n",
    "        if i in [2,3,5]:\n",
    "            hold.append(i)\n",
    "        else:\n",
    "            if not i%2==0 and not i%3==0 and not i%5==0:\n",
    "                hold.append(i)\n",
    "        i += 1\n",
    "    return hold\n",
    "\n",
    "def get_n_prime_from_index(index:int) -> int:\n",
    "    # get a the prime number at a particular index of primes\n",
    "    primes = [2,3]\n",
    "    check = _prime_search(10001)\n",
    "    idx = 0\n",
    "    while len(primes) != index:\n",
    "        if _is_prime(check[idx]):\n",
    "            primes.append(check[idx])\n",
    "        idx += 1\n",
    "    print(primes[-1])"
   ]
  },
  {
   "cell_type": "code",
   "execution_count": 3,
   "metadata": {},
   "outputs": [
    {
     "name": "stdout",
     "output_type": "stream",
     "text": [
      "13\n"
     ]
    }
   ],
   "source": [
    "get_n_prime_from_index(6)"
   ]
  },
  {
   "cell_type": "code",
   "execution_count": 4,
   "metadata": {},
   "outputs": [
    {
     "name": "stdout",
     "output_type": "stream",
     "text": [
      "104743\n"
     ]
    }
   ],
   "source": [
    "get_n_prime_from_index(10001)"
   ]
  }
 ],
 "metadata": {
  "kernelspec": {
   "display_name": "Python 3",
   "language": "python",
   "name": "python3"
  },
  "language_info": {
   "codemirror_mode": {
    "name": "ipython",
    "version": 3
   },
   "file_extension": ".py",
   "mimetype": "text/x-python",
   "name": "python",
   "nbconvert_exporter": "python",
   "pygments_lexer": "ipython3",
   "version": "3.7.6"
  }
 },
 "nbformat": 4,
 "nbformat_minor": 4
}
