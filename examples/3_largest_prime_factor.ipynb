{
 "cells": [
  {
   "cell_type": "markdown",
   "metadata": {},
   "source": [
    "### Largest prime factor\n",
    "   \n",
    "###### Problem 3\n",
    "The prime factors of 13195 are 5, 7, 13 and 29.\n",
    "\n",
    "What is the largest prime factor of the number 600851475143 ?"
   ]
  },
  {
   "cell_type": "code",
   "execution_count": 1,
   "metadata": {},
   "outputs": [],
   "source": [
    "def prime_factors(n):\n",
    "    # not considering 1 or 2\n",
    "    return [i for i in range(3, int(n**0.5) + 1) if n%i == 0 and is_prime(i)]\n",
    "\n",
    "def is_prime(n) :\n",
    "    # optimized script to take advantage of the +6 rule of primes\n",
    "    # source: https://www.geeksforgeeks.org/python-program-to-check-whether-a-number-is-prime-or-not/\n",
    "    if (n % 2 == 0 or n % 3 == 0) : \n",
    "        return False\n",
    "    i = 5\n",
    "    while(i * i <= n) : \n",
    "        if (n%i == 0 or n%(i + 2) == 0) : \n",
    "            return False\n",
    "        i = i + 6\n",
    "    return True"
   ]
  },
  {
   "cell_type": "code",
   "execution_count": 2,
   "metadata": {},
   "outputs": [
    {
     "data": {
      "text/plain": [
       "[71, 839, 1471, 6857]"
      ]
     },
     "execution_count": 2,
     "metadata": {},
     "output_type": "execute_result"
    }
   ],
   "source": [
    "prime_factors(600851475143)"
   ]
  }
 ],
 "metadata": {
  "kernelspec": {
   "display_name": "Python 3",
   "language": "python",
   "name": "python3"
  },
  "language_info": {
   "codemirror_mode": {
    "name": "ipython",
    "version": 3
   },
   "file_extension": ".py",
   "mimetype": "text/x-python",
   "name": "python",
   "nbconvert_exporter": "python",
   "pygments_lexer": "ipython3",
   "version": "3.7.6"
  }
 },
 "nbformat": 4,
 "nbformat_minor": 4
}
