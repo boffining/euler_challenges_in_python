{
 "cells": [
  {
   "cell_type": "markdown",
   "metadata": {},
   "source": [
    "### Largest palindrome product\n",
    "   \n",
    "###### Problem 4\n",
    "A palindromic number reads the same both ways. The largest palindrome made from the product of two 2-digit numbers is 9009 = 91 × 99.\n",
    "\n",
    "Find the largest palindrome made from the product of two 3-digit numbers."
   ]
  },
  {
   "cell_type": "code",
   "execution_count": 1,
   "metadata": {},
   "outputs": [],
   "source": [
    "import itertools\n",
    "    \n",
    "def palindrome_product(start:int, end:int, early_stop=10):\n",
    "    # find 10 palindromes and return the largest\n",
    "    values = sorted(range(start,end),reverse=True)\n",
    "    palindromes = []\n",
    "    for number_a, number_b in itertools.combinations(values,2):\n",
    "        product = str(number_a*number_b)\n",
    "        if len(product)%2 == 0:\n",
    "            if _is_palindrome(product):\n",
    "                palindromes.append((product, number_a, number_b))\n",
    "                if len(palindromes) == early_stop:\n",
    "                    break\n",
    "                else:\n",
    "                    continue\n",
    "    product, number_a, number_b = sorted(palindromes, reverse=True)[0]\n",
    "    print(f'PALINDROME:{product} IS A PRODUCT OF {number_a} AND {number_b}')\n",
    "                \n",
    "def _is_palindrome(number:str) -> bool:\n",
    "    if number[:len(number)//2][::-1] == number[len(number)//2:]:\n",
    "        return True\n",
    "    else:\n",
    "        return False"
   ]
  },
  {
   "cell_type": "code",
   "execution_count": 2,
   "metadata": {},
   "outputs": [
    {
     "name": "stdout",
     "output_type": "stream",
     "text": [
      "PALINDROME:9009 IS A PRODUCT OF 99 AND 91\n",
      "CPU times: user 371 µs, sys: 49 µs, total: 420 µs\n",
      "Wall time: 445 µs\n"
     ]
    }
   ],
   "source": [
    "%%time\n",
    "# two digit palindrome product\n",
    "palindrome_product(10,100)"
   ]
  },
  {
   "cell_type": "code",
   "execution_count": 3,
   "metadata": {},
   "outputs": [
    {
     "name": "stdout",
     "output_type": "stream",
     "text": [
      "PALINDROME:906609 IS A PRODUCT OF 993 AND 913\n",
      "CPU times: user 14.7 ms, sys: 0 ns, total: 14.7 ms\n",
      "Wall time: 14.5 ms\n"
     ]
    }
   ],
   "source": [
    "%%time\n",
    "# three digit palindrome product\n",
    "palindrome_product(100,1000)"
   ]
  }
 ],
 "metadata": {
  "kernelspec": {
   "display_name": "Python 3",
   "language": "python",
   "name": "python3"
  },
  "language_info": {
   "codemirror_mode": {
    "name": "ipython",
    "version": 3
   },
   "file_extension": ".py",
   "mimetype": "text/x-python",
   "name": "python",
   "nbconvert_exporter": "python",
   "pygments_lexer": "ipython3",
   "version": "3.7.6"
  }
 },
 "nbformat": 4,
 "nbformat_minor": 4
}
